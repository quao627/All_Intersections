{
 "cells": [
  {
   "cell_type": "code",
   "execution_count": 10,
   "metadata": {
    "collapsed": true,
    "pycharm": {
     "name": "#%%\n"
    }
   },
   "outputs": [],
   "source": [
    "import pickle\n",
    "import re\n",
    "from functions import *\n",
    "import os\n",
    "import itertools\n",
    "import geopandas as gpd\n",
    "import networkx as nx\n",
    "from shapely.ops import cascaded_union\n",
    "import osmnx.projection as projection"
   ]
  },
  {
   "cell_type": "code",
   "execution_count": 12,
   "metadata": {
    "pycharm": {
     "name": "#%%\n"
    }
   },
   "outputs": [],
   "source": [
    "with open(\"../data/chicago/chicago.pkl\", \"rb\") as f:\n",
    "    data = pickle.load(f)\n",
    "roads = data[\"roads\"]"
   ]
  },
  {
   "cell_type": "code",
   "execution_count": 13,
   "metadata": {
    "pycharm": {
     "name": "#%%\n"
    }
   },
   "outputs": [],
   "source": [
    "roads[\"speed\"] = roads[\"maxspeed\"].apply(lambda x: int(re.findall(r'\\d+', x)[0]) if not type(x) == float and len(re.findall(r'\\d+', x))>0 else None)"
   ]
  },
  {
   "cell_type": "code",
   "execution_count": 14,
   "metadata": {
    "pycharm": {
     "name": "#%%\n"
    }
   },
   "outputs": [],
   "source": [
    "roads, G_nodes, node_dict_m, G, df_group, restrictions = data[\"roads\"], data[\"G_nodes\"], data[\"node_dict_m\"], data[\"G\"], data[\"df_group\"], data[\"restrictions\"]"
   ]
  },
  {
   "cell_type": "code",
   "execution_count": null,
   "metadata": {
    "pycharm": {
     "name": "#%%\n"
    }
   },
   "outputs": [],
   "source": []
  },
  {
   "cell_type": "code",
   "execution_count": 15,
   "metadata": {
    "pycharm": {
     "name": "#%%\n"
    }
   },
   "outputs": [
    {
     "name": "stdout",
     "output_type": "stream",
     "text": [
      "Processing speed limit data...\n",
      "Processing turn data...\n"
     ]
    },
    {
     "ename": "UnboundLocalError",
     "evalue": "local variable 'theta' referenced before assignment",
     "output_type": "error",
     "traceback": [
      "\u001b[0;31m---------------------------------------------------------------------------\u001b[0m",
      "\u001b[0;31mUnboundLocalError\u001b[0m                         Traceback (most recent call last)",
      "\u001b[0;32m<ipython-input-15-f34db553a0a8>\u001b[0m in \u001b[0;36m<module>\u001b[0;34m\u001b[0m\n\u001b[1;32m    135\u001b[0m             \u001b[0;32mcontinue\u001b[0m\u001b[0;34m\u001b[0m\u001b[0;34m\u001b[0m\u001b[0m\n\u001b[1;32m    136\u001b[0m         \u001b[0mother_node\u001b[0m\u001b[0;34m,\u001b[0m \u001b[0msignal_node\u001b[0m \u001b[0;34m=\u001b[0m \u001b[0;34m(\u001b[0m\u001b[0mu\u001b[0m\u001b[0;34m,\u001b[0m \u001b[0mv\u001b[0m\u001b[0;34m)\u001b[0m \u001b[0;32mif\u001b[0m \u001b[0mv\u001b[0m \u001b[0;32min\u001b[0m \u001b[0mintersection_nodes\u001b[0m \u001b[0;32melse\u001b[0m \u001b[0;34m(\u001b[0m\u001b[0mv\u001b[0m\u001b[0;34m,\u001b[0m \u001b[0mu\u001b[0m\u001b[0;34m)\u001b[0m\u001b[0;34m\u001b[0m\u001b[0;34m\u001b[0m\u001b[0m\n\u001b[0;32m--> 137\u001b[0;31m         \u001b[0mtheta_long\u001b[0m \u001b[0;34m=\u001b[0m \u001b[0mfind_theta\u001b[0m\u001b[0;34m(\u001b[0m\u001b[0mG\u001b[0m\u001b[0;34m,\u001b[0m \u001b[0msignal_node\u001b[0m\u001b[0;34m,\u001b[0m \u001b[0mother_node\u001b[0m\u001b[0;34m,\u001b[0m \u001b[0mnode_dict_m\u001b[0m\u001b[0;34m)\u001b[0m\u001b[0;34m\u001b[0m\u001b[0;34m\u001b[0m\u001b[0m\n\u001b[0m\u001b[1;32m    138\u001b[0m         \u001b[0mroad_nodes\u001b[0m \u001b[0;34m=\u001b[0m \u001b[0mlist\u001b[0m\u001b[0;34m(\u001b[0m\u001b[0mnearby_roads\u001b[0m\u001b[0;34m.\u001b[0m\u001b[0mloc\u001b[0m\u001b[0;34m[\u001b[0m\u001b[0mnearby_roads\u001b[0m\u001b[0;34m[\u001b[0m\u001b[0;34m\"id\"\u001b[0m\u001b[0;34m]\u001b[0m \u001b[0;34m==\u001b[0m \u001b[0ma\u001b[0m\u001b[0;34m[\u001b[0m\u001b[0;34m\"label\"\u001b[0m\u001b[0;34m]\u001b[0m\u001b[0;34m,\u001b[0m \u001b[0;34m\"nodes\"\u001b[0m\u001b[0;34m]\u001b[0m\u001b[0;34m)\u001b[0m\u001b[0;34m[\u001b[0m\u001b[0;36m0\u001b[0m\u001b[0;34m]\u001b[0m\u001b[0;34m\u001b[0m\u001b[0;34m\u001b[0m\u001b[0m\n\u001b[1;32m    139\u001b[0m         \u001b[0mx1\u001b[0m\u001b[0;34m,\u001b[0m \u001b[0my1\u001b[0m \u001b[0;34m=\u001b[0m \u001b[0mnode_dict_m\u001b[0m\u001b[0;34m[\u001b[0m\u001b[0mother_node\u001b[0m\u001b[0;34m]\u001b[0m\u001b[0;34m\u001b[0m\u001b[0;34m\u001b[0m\u001b[0m\n",
      "\u001b[0;32m~/Desktop/AlphaDrive/All_intersections/code/functions.py\u001b[0m in \u001b[0;36mfind_theta\u001b[0;34m(G, signal_node, other_node, node_dict_m)\u001b[0m\n\u001b[1;32m    355\u001b[0m                 \u001b[0mtheta\u001b[0m \u001b[0;34m=\u001b[0m \u001b[0;36m360\u001b[0m \u001b[0;34m-\u001b[0m \u001b[0mtheta\u001b[0m\u001b[0;34m\u001b[0m\u001b[0;34m\u001b[0m\u001b[0m\n\u001b[1;32m    356\u001b[0m             \u001b[0;32mbreak\u001b[0m\u001b[0;34m\u001b[0m\u001b[0;34m\u001b[0m\u001b[0m\n\u001b[0;32m--> 357\u001b[0;31m     \u001b[0;32mreturn\u001b[0m \u001b[0mtheta\u001b[0m\u001b[0;34m\u001b[0m\u001b[0;34m\u001b[0m\u001b[0m\n\u001b[0m\u001b[1;32m    358\u001b[0m \u001b[0;34m\u001b[0m\u001b[0m\n\u001b[1;32m    359\u001b[0m \u001b[0;34m\u001b[0m\u001b[0m\n",
      "\u001b[0;31mUnboundLocalError\u001b[0m: local variable 'theta' referenced before assignment"
     ]
    }
   ],
   "source": [
    "def sample_lane_data(highway, one_way):\n",
    "    return lanes_dict_one_way[highway] if one_way == \"yes\" else lanes_dict_two_way[highway]\n",
    "\n",
    "def complete_lane(lane, highway, oneway):\n",
    "    if oneway == \"yes\":\n",
    "        lane = sample_lane_data(highway, oneway)\n",
    "    elif not lane:\n",
    "        lane = sample_lane_data(highway, \"no\")\n",
    "    else:\n",
    "        if not lane[0]:\n",
    "            lane[0] = sample_lane_data(highway, \"yes\")\n",
    "        if not lane[2]:\n",
    "            lane[2] = sample_lane_data(highway, \"yes\")\n",
    "    return lane\n",
    "for lane_type in [\"lanes\", \"lanes:backward\", \"lanes:forward\", \"lanes:both_ways\"]:\n",
    "    turn_lane_type = f\"turn:{lane_type}\"\n",
    "    roads.loc[(roads[turn_lane_type].notnull()), lane_type] = \\\n",
    "        roads.loc[(roads[turn_lane_type].notnull()), turn_lane_type].apply(lambda x: len(x.split(\"|\")) if x else 0)\n",
    "\n",
    "roads.loc[roads[\"oneway\"] == \"-1\", \"nodes\"] = roads[roads[\"oneway\"] == \"-1\"][\"nodes\"].apply(lambda x: x[::-1])\n",
    "roads.loc[roads[\"oneway\"] == \"-1\", \"oneway\"] = \"yes\"\n",
    "roads.loc[roads[\"lanes\"] == \"1\", \"oneway\"] = \"yes\"\n",
    "\n",
    "roads[\"lane_data\"] = roads.apply(\n",
    "    lambda row: get_lane_data(row[\"oneway\"], row[\"lanes\"], row[\"lanes:forward\"], row[\"lanes:both_ways\"],\n",
    "                              row[\"lanes:backward\"]), axis=1)\n",
    "\n",
    "# process speed limit\n",
    "\n",
    "print(\"Processing speed limit data...\")\n",
    "roads[\"speed\"] = roads[\"maxspeed\"].apply(lambda x: int(re.findall(r'\\d+', x)[0])\n",
    "    if (not type(x) == float and len(re.findall(r'\\d+', x))>0) else None)\n",
    "# add turn restrictions:\n",
    "\n",
    "print(\"Processing turn data...\")\n",
    "roads[\"turn_data\"], roads[\"turn_data_source\"] = zip(\n",
    "    *roads.apply(lambda x: get_turn_data(x[\"lane_data\"], x[\"oneway\"], x[\"turn:lanes\"], x[\"turn:lanes:forward\"]),\n",
    "                 axis=1))\n",
    "\n",
    "lanes_dict_two_way = dict()\n",
    "for highway in roads[\"highway\"].unique():\n",
    "    try:\n",
    "        lanes_dict_two_way[highway] = \\\n",
    "            roads[(roads[\"oneway\"] != \"yes\") & (roads[\"lane_data\"].notnull()) & (roads[\"highway\"] == highway)][\n",
    "                \"lane_data\"].value_counts().keys()[0]\n",
    "    except:\n",
    "        lanes_dict_two_way[highway] = [1, 0, 1]\n",
    "lanes_dict_one_way = dict()\n",
    "for highway in roads[\"highway\"].unique():\n",
    "    try:\n",
    "        lanes_dict_one_way[highway] = \\\n",
    "            roads[(roads[\"oneway\"] == \"yes\") & (roads[\"lane_data\"].notnull()) & (roads[\"highway\"] == highway)][\n",
    "                \"lane_data\"].value_counts().keys()[0]\n",
    "    except:\n",
    "        lanes_dict_one_way[highway] = 1\n",
    "\n",
    "original_degree_list = []\n",
    "intersection_dict = {}\n",
    "for group_index in range(167, len(df_group)):\n",
    "    index = group_index\n",
    "    res_df = restrictions[restrictions[\"intersection\"] == index]\n",
    "    group = list(df_group[\"nearby_nodes\"])[index]\n",
    "    geometry = list(df_group[\"geometry\"])[index].xy\n",
    "    centroid_coords = [geometry[1][0], geometry[0][0]]\n",
    "    nearby_roads = list(df_group[\"nearby_roads\"])[index]\n",
    "    nearby_roads = roads[roads[\"id\"].isin(nearby_roads)]\n",
    "    nodes = G_nodes.loc[list(group)]\n",
    "\n",
    "    if len(nodes) == 0 or len(nearby_roads) < 2:\n",
    "        continue\n",
    "    # keep a copy of raw data\n",
    "    original_nodes = nodes.copy(deep=True)\n",
    "    original_nearby_roads = nearby_roads.copy(deep=True)\n",
    "\n",
    "    # build a graph for the intersection\n",
    "    Gi = nx.Graph()\n",
    "    for index, row in nearby_roads.iterrows():\n",
    "        path_nodes = [group[0] for group in itertools.groupby(row[\"nodes\"])]\n",
    "        Gi.add_edges_from([(path_nodes[i], path_nodes[i + 1]) for i in range(len(path_nodes) - 1)], label=row[\"id\"])\n",
    "    Gi = nx.Graph(Gi.subgraph(max(nx.connected_components(Gi), key=len)))\n",
    "\n",
    "    # remove signals with less than two neighbors\n",
    "    removed_signals = set()\n",
    "    for index, row in nodes.iterrows():\n",
    "        signal = row[\"id\"]\n",
    "        if signal not in Gi.nodes:\n",
    "            nodes.loc[index, \"keep\"] = False\n",
    "            continue\n",
    "        if Gi.degree[signal] == 2:\n",
    "            neighbors = list(dict(Gi[signal]).keys())\n",
    "            Gi.add_edge(*neighbors,\n",
    "                        label=Gi[signal][neighbors[0]][\"label\"] if neighbors[0] in list(nodes[\"id\"]) else\n",
    "                        Gi[signal][neighbors[1]][\"label\"])\n",
    "            Gi.remove_node(signal)\n",
    "            nodes.loc[index, \"keep\"] = False\n",
    "        else:\n",
    "            nodes.loc[index, \"keep\"] = True\n",
    "\n",
    "    Gj = Gi.copy()\n",
    "    for u, v in Gj.edges():\n",
    "        Gj[u][v][\"nodes\"] = set([u, v])\n",
    "    nodes_j = list(Gj.nodes)\n",
    "    for node in nodes_j:\n",
    "        if Gj.degree[node] == 2 and any([get_dist(node, signal, node_dict_m) < 20 for signal in nodes[\"id\"]]):\n",
    "            neighbors = list(dict(Gj[node]).keys())\n",
    "            Gj.add_edge(*neighbors)\n",
    "            Gj[neighbors[0]][neighbors[1]][\"nodes\"] = Gj[node][neighbors[0]][\"nodes\"] | Gj[node][neighbors[1]][\n",
    "                \"nodes\"]\n",
    "            Gj.remove_node(node)\n",
    "\n",
    "    nodes = nodes[nodes[\"keep\"]]\n",
    "    intersection_nodes = set(nodes[\"id\"])\n",
    "    intersection_nodes = list(intersection_nodes)\n",
    "    if len(intersection_nodes) > 1:\n",
    "        new_nodes = set()\n",
    "        for u, v in Gj.edges():\n",
    "            if u in intersection_nodes and v in intersection_nodes:\n",
    "                new_nodes.update(Gj[u][v][\"nodes\"])\n",
    "        for i, node1 in enumerate(intersection_nodes):\n",
    "            for node2 in intersection_nodes[i + 1:]:\n",
    "                new_nodes.update(nx.shortest_path(Gi, node1, node2))\n",
    "        intersection_nodes = list(new_nodes)\n",
    "\n",
    "    # remove those signals from roads and then cut the roads to its nearest intersection/road end\n",
    "    for index, row in nearby_roads.iterrows():\n",
    "        new_nodes = [node for node in row[\"nodes\"] if node not in removed_signals]\n",
    "        nearby_roads.at[index, \"nodes\"] = new_nodes\n",
    "\n",
    "    theta_dict = {}\n",
    "    theta_long_dict = {}\n",
    "    for (u, v, a) in Gi.edges(data=True):\n",
    "        if u not in intersection_nodes and v not in intersection_nodes:\n",
    "            continue\n",
    "        if u in intersection_nodes and v in intersection_nodes:\n",
    "            continue\n",
    "        other_node, signal_node = (u, v) if v in intersection_nodes else (v, u)\n",
    "        theta_long = find_theta(G, signal_node, other_node, node_dict_m)\n",
    "        road_nodes = list(nearby_roads.loc[nearby_roads[\"id\"] == a[\"label\"], \"nodes\"])[0]\n",
    "        x1, y1 = node_dict_m[other_node]\n",
    "        x2, y2 = node_dict_m[signal_node]\n",
    "        r = math.sqrt(pow(y1 - y2, 2) + pow(x1 - x2, 2))\n",
    "        theta = math.acos((x1 - x2) / r) * 180 / math.pi\n",
    "        if y1 < y2:\n",
    "            theta = 360 - theta\n",
    "        if road_nodes.index(signal_node) > road_nodes.index(other_node):\n",
    "            direction = \"in\"\n",
    "        else:\n",
    "            direction = \"out\"\n",
    "        Gi[u][v][\"theta\"] = theta\n",
    "        Gi[u][v][\"theta_long\"] = theta_long\n",
    "        Gi[u][v][\"direction\"] = direction\n",
    "        theta_dict[theta] = a[\"label\"]\n",
    "        theta_long_dict[theta_long] = a[\"label\"]\n",
    "\n",
    "    # get length and geometry\n",
    "    edges = [(u, v, a) for (u, v, a) in Gi.edges(data=True) if\n",
    "             (u in intersection_nodes) + (v in intersection_nodes) == 1]\n",
    "\n",
    "    for (u, v, a) in edges:\n",
    "        Gi[u][v][\"length\"], Gi[u][v][\"geometry\"] = find_length_geometry(G, u, v)\n",
    "\n",
    "    intersection = dict()\n",
    "    lines = []\n",
    "\n",
    "    original_degree_list.append(len(edges))\n",
    "    # compute angles and length\n",
    "    index = 0\n",
    "    for u, v, a in edges:\n",
    "        if u == v:\n",
    "            continue\n",
    "        label = a[\"label\"]\n",
    "        road_info = nearby_roads.loc[nearby_roads[\"id\"] == label]\n",
    "        road_info = road_info.iloc[0].to_dict()\n",
    "        intersection[index] = dict()\n",
    "        intersection[index][\"length\"] = a[\"length\"]\n",
    "        intersection[index][\"geometry\"] = [[coord[1], coord[0]] for coord in a[\"geometry\"]]\n",
    "        intersection[index][\"road_id\"] = label\n",
    "        intersection[index][\"theta\"] = a[\"theta\"]\n",
    "        intersection[index][\"theta_long\"] = a[\"theta_long\"]\n",
    "        intersection[index][\"direction\"] = a[\"direction\"]\n",
    "        intersection[index][\"lane_data\"] = road_info[\"lane_data\"]\n",
    "        intersection[index][\"lane_data_source\"] = \"osm\"\n",
    "        intersection[index][\"turn_data\"] = road_info[\"turn_data\"]\n",
    "        intersection[index][\"turn_data_source\"] = road_info[\"turn_data_source\"]\n",
    "        intersection[index][\"oneway\"] = road_info[\"oneway\"]\n",
    "        intersection[index][\"highway\"] = road_info[\"highway\"]\n",
    "        lines.append(intersection[index][\"geometry\"])\n",
    "        index += 1\n",
    "\n",
    "    # roads with opposite directions are oneway\n",
    "    same_pairs = get_pairs(intersection, lambda x: x < 20)\n",
    "    new_intersection = {}\n",
    "    new_same_pairs = set()\n",
    "    for pair in same_pairs:\n",
    "        road1 = intersection[pair[0]]\n",
    "        road2 = intersection[pair[1]]\n",
    "        if type(road1[\"lane_data\"]) == list or type(road2[\"lane_data\"]) == list:\n",
    "            continue\n",
    "        new_road = combine_same_direction(road1, road2)\n",
    "        new_intersection[len(new_intersection)] = new_road\n",
    "        new_same_pairs.add(pair)\n",
    "    same_pairs = new_same_pairs\n",
    "    for index, road in intersection.items():\n",
    "        if all([index not in pair for pair in same_pairs]):\n",
    "            new_intersection[len(new_intersection)] = road\n",
    "    intersection = new_intersection\n",
    "\n",
    "    # ensure the directions are all \"in\"\n",
    "    for index, road in intersection.items():\n",
    "        if type(road[\"road_id\"]) == list:\n",
    "            road_info = nearby_roads.loc[nearby_roads[\"id\"] == road[\"road_id\"][0]]\n",
    "        else:\n",
    "            road_info = nearby_roads.loc[nearby_roads[\"id\"] == road[\"road_id\"]]\n",
    "        road_info = road_info.iloc[0].to_dict()\n",
    "        if road[\"direction\"] == \"out\":\n",
    "            if road[\"oneway\"] == \"yes\":\n",
    "                road[\"turn_data\"] = []\n",
    "                continue\n",
    "            if road[\"lane_data\"]:\n",
    "                if type(road[\"lane_data\"]) == list:\n",
    "                    road[\"lane_data\"] = road[\"lane_data\"][::-1]\n",
    "                road[\"turn_data\"], road[\"turn_data_source\"] = get_turn_data(road[\"lane_data\"], \"no\",\n",
    "                                                                            road_info[\"turn:lanes\"],\n",
    "                                                                            road_info[\"turn:lanes:backward\"])\n",
    "            road[\"direction\"] = \"in\"\n",
    "\n",
    "    # impute roads with the same direction\n",
    "    pairs = get_pairs(intersection, lambda x: 170 < x < 190)\n",
    "    for pair in pairs:\n",
    "        road1, road2 = intersection[pair[0]], intersection[pair[1]]\n",
    "        lane1, lane2 = road1[\"lane_data\"], road2[\"lane_data\"]\n",
    "        if lane_complete(lane1) and lane_complete(lane2):\n",
    "            continue\n",
    "        if lane_complete(lane1) and not lane_complete(lane2):\n",
    "            lane1, lane2 = impute_lane_data(lane1, lane2, road2[\"oneway\"], road1[\"direction\"], road2[\"direction\"])\n",
    "        if lane_complete(lane2) and not lane_complete(lane1):\n",
    "            lane2, lane1 = impute_lane_data(lane2, lane1, road1[\"oneway\"], road2[\"direction\"], road1[\"direction\"])\n",
    "        if not lane_complete(lane1):\n",
    "            lane1 = complete_lane(lane1, road1[\"highway\"], road1[\"oneway\"])\n",
    "        if not lane_complete(lane2):\n",
    "            lane2 = complete_lane(lane2, road2[\"highway\"], road2[\"oneway\"])\n",
    "        road1[\"lane_data\"] = lane1\n",
    "        road2[\"lane_data\"] = lane2\n",
    "\n",
    "    for index, road in intersection.items():\n",
    "        lane = road[\"lane_data\"]\n",
    "        if not lane_complete(lane):\n",
    "            lane = complete_lane(lane, road[\"highway\"], road[\"oneway\"])\n",
    "            road[\"lane_data\"] = lane\n",
    "    # impute edges that still don't have lane data\n",
    "    for index, road in intersection.items():\n",
    "        if not road[\"lane_data\"]:\n",
    "            road[\"lane_data\"] = sample_lane_data(road[\"highway\"], road[\"oneway\"])\n",
    "        if type(road[\"lane_data\"]) == list:\n",
    "            if not road[\"lane_data\"][0]:\n",
    "                road[\"lane_data\"][0] = sample_lane_data(road[\"highway\"], \"yes\")\n",
    "            if not road[\"lane_data\"][2]:\n",
    "                road[\"lane_data\"][2] = sample_lane_data(road[\"highway\"], \"yes\")\n",
    "\n",
    "    for index, road in intersection.items():\n",
    "        if not road[\"turn_data\"]:\n",
    "            if road[\"direction\"] != \"out\":\n",
    "                road[\"turn_data\"], road[\"turn_data_source\"] = get_turn_data(road[\"lane_data\"], road[\"oneway\"], None,\n",
    "                                                                            None)\n",
    "            else:\n",
    "                road[\"turn_data\"], road[\"turn_data_source\"] = [], \"osm\"\n",
    "\n",
    "    # add turn restrictions\n",
    "    for index, row in res_df.iterrows():\n",
    "        res_type = row[\"restriction\"]\n",
    "        coords = row[\"from_geom\"].coords\n",
    "        x1, y1 = coords[0][0], coords[0][1]\n",
    "        x2, y2 = coords[-1][0], coords[-1][1]\n",
    "        r = math.sqrt(pow(y1 - y2, 2) + pow(x1 - x2, 2))\n",
    "        theta = math.acos((x2 - x1) / r) * 180 / math.pi\n",
    "        if y2 < y1:\n",
    "            theta = 360 - theta\n",
    "        road_idx = sorted(intersection.items(), key=lambda x: abs(x[1][\"theta\"] - theta))[0][0]\n",
    "        intersection[road_idx][\"turn_data\"] = [process_turns(turns, res_type) for turns in\n",
    "                                               intersection[road_idx][\"turn_data\"]]\n",
    "    order = sorted(intersection, key=lambda x: intersection[x][\"theta\"], reverse=True)\n",
    "    intersection = {i: intersection[road_idx] for i, road_idx in enumerate(order)}\n",
    "    intersection_dict[group_index] = intersection\n",
    "    intersection_dict[group_index][\"geometry\"] = lines\n",
    "    intersection_dict[group_index][\"centroid\"] = centroid_coords\n"
   ]
  },
  {
   "cell_type": "code",
   "execution_count": 9,
   "metadata": {
    "pycharm": {
     "name": "#%%\n"
    }
   },
   "outputs": [
    {
     "data": {
      "text/plain": [
       "14"
      ]
     },
     "execution_count": 9,
     "metadata": {},
     "output_type": "execute_result"
    }
   ],
   "source": [
    "len(intersection_dict)"
   ]
  },
  {
   "cell_type": "code",
   "execution_count": 33,
   "metadata": {
    "pycharm": {
     "name": "#%%\n"
    }
   },
   "outputs": [
    {
     "ename": "IndexError",
     "evalue": "list assignment index out of range",
     "output_type": "error",
     "traceback": [
      "\u001b[0;31m---------------------------------------------------------------------------\u001b[0m",
      "\u001b[0;31mIndexError\u001b[0m                                Traceback (most recent call last)",
      "\u001b[0;32m<ipython-input-33-fc1c06fcd7f0>\u001b[0m in \u001b[0;36m<module>\u001b[0;34m\u001b[0m\n\u001b[1;32m      1\u001b[0m \u001b[0;32mfor\u001b[0m \u001b[0mindex\u001b[0m\u001b[0;34m,\u001b[0m \u001b[0mx\u001b[0m \u001b[0;32min\u001b[0m \u001b[0mroads\u001b[0m\u001b[0;34m.\u001b[0m\u001b[0miterrows\u001b[0m\u001b[0;34m(\u001b[0m\u001b[0;34m)\u001b[0m\u001b[0;34m:\u001b[0m\u001b[0;34m\u001b[0m\u001b[0;34m\u001b[0m\u001b[0m\n\u001b[0;32m----> 2\u001b[0;31m     \u001b[0mget_turn_data\u001b[0m\u001b[0;34m(\u001b[0m\u001b[0mx\u001b[0m\u001b[0;34m[\u001b[0m\u001b[0;34m\"lane_data\"\u001b[0m\u001b[0;34m]\u001b[0m\u001b[0;34m,\u001b[0m \u001b[0mx\u001b[0m\u001b[0;34m[\u001b[0m\u001b[0;34m\"oneway\"\u001b[0m\u001b[0;34m]\u001b[0m\u001b[0;34m,\u001b[0m \u001b[0mx\u001b[0m\u001b[0;34m[\u001b[0m\u001b[0;34m\"turn:lanes\"\u001b[0m\u001b[0;34m]\u001b[0m\u001b[0;34m,\u001b[0m \u001b[0mx\u001b[0m\u001b[0;34m[\u001b[0m\u001b[0;34m\"turn:lanes:forward\"\u001b[0m\u001b[0;34m]\u001b[0m\u001b[0;34m)\u001b[0m\u001b[0;34m\u001b[0m\u001b[0;34m\u001b[0m\u001b[0m\n\u001b[0m",
      "\u001b[0;32m~/Desktop/AlphaDrive/All_intersections/code/functions.py\u001b[0m in \u001b[0;36mget_turn_data\u001b[0;34m(lane_data, oneway, turn_lanes, turn_lanes_forward)\u001b[0m\n\u001b[1;32m    262\u001b[0m         \u001b[0mturn\u001b[0m \u001b[0;34m=\u001b[0m \u001b[0;34m\";\"\u001b[0m\u001b[0;34m.\u001b[0m\u001b[0mjoin\u001b[0m\u001b[0;34m(\u001b[0m\u001b[0;34m[\u001b[0m\u001b[0mx\u001b[0m \u001b[0;32mfor\u001b[0m \u001b[0mx\u001b[0m \u001b[0;32min\u001b[0m \u001b[0mturn\u001b[0m\u001b[0;34m.\u001b[0m\u001b[0msplit\u001b[0m\u001b[0;34m(\u001b[0m\u001b[0;34m\";\"\u001b[0m\u001b[0;34m)\u001b[0m \u001b[0;32mif\u001b[0m \u001b[0mx\u001b[0m \u001b[0;32min\u001b[0m \u001b[0mturn_types\u001b[0m\u001b[0;34m]\u001b[0m\u001b[0;34m)\u001b[0m\u001b[0;34m\u001b[0m\u001b[0;34m\u001b[0m\u001b[0m\n\u001b[1;32m    263\u001b[0m         \u001b[0;32mif\u001b[0m \u001b[0mlen\u001b[0m\u001b[0;34m(\u001b[0m\u001b[0mturn\u001b[0m\u001b[0;34m)\u001b[0m \u001b[0;34m>\u001b[0m \u001b[0;36m0\u001b[0m\u001b[0;34m:\u001b[0m\u001b[0;34m\u001b[0m\u001b[0;34m\u001b[0m\u001b[0m\n\u001b[0;32m--> 264\u001b[0;31m             \u001b[0mturns\u001b[0m\u001b[0;34m[\u001b[0m\u001b[0mindex\u001b[0m\u001b[0;34m]\u001b[0m \u001b[0;34m=\u001b[0m \u001b[0mturn\u001b[0m\u001b[0;34m\u001b[0m\u001b[0;34m\u001b[0m\u001b[0m\n\u001b[0m\u001b[1;32m    265\u001b[0m     \u001b[0;32mreturn\u001b[0m \u001b[0mturns\u001b[0m\u001b[0;34m,\u001b[0m \u001b[0;34m\"osm\"\u001b[0m\u001b[0;34m\u001b[0m\u001b[0;34m\u001b[0m\u001b[0m\n\u001b[1;32m    266\u001b[0m \u001b[0;34m\u001b[0m\u001b[0m\n",
      "\u001b[0;31mIndexError\u001b[0m: list assignment index out of range"
     ]
    }
   ],
   "source": [
    "for index, x in roads.iterrows():\n",
    "    get_turn_data(x[\"lane_data\"], x[\"oneway\"], x[\"turn:lanes\"], x[\"turn:lanes:forward\"])"
   ]
  },
  {
   "cell_type": "code",
   "execution_count": 21,
   "metadata": {
    "pycharm": {
     "name": "#%%\n"
    }
   },
   "outputs": [
    {
     "data": {
      "text/plain": [
       "10"
      ]
     },
     "execution_count": 21,
     "metadata": {},
     "output_type": "execute_result"
    }
   ],
   "source": [
    "len(lines)"
   ]
  },
  {
   "cell_type": "code",
   "execution_count": 18,
   "metadata": {
    "pycharm": {
     "name": "#%%\n"
    }
   },
   "outputs": [
    {
     "name": "stdout",
     "output_type": "stream",
     "text": [
      "102705584 5891205768\n",
      "263351194 5891205768\n",
      "5891205768 9233058454\n",
      "5891205768 9233058454\n",
      "5891205768 9233058456\n",
      "5891205768 9233058456\n",
      "5891205989 9234140511\n",
      "5891205989 9234140511\n",
      "9234140511 5891205783\n",
      "9234140511 5891205783\n"
     ]
    },
    {
     "data": {
      "text/plain": [
       "<AxesSubplot:>"
      ]
     },
     "execution_count": 18,
     "metadata": {},
     "output_type": "execute_result"
    },
    {
     "data": {
      "image/png": "[encoded data removed]",
      "text/plain": [
       "<Figure size 1440x1440 with 1 Axes>"
      ]
     },
     "metadata": {
      "needs_background": "light"
     },
     "output_type": "display_data"
    }
   ],
   "source": [
    "u, v = signal_node, other_node\n",
    "\n",
    "lines = []\n",
    "for x, y, k in G.edges(keys=True):\n",
    "    if (u in (x,y)) or (v in (x, y)):\n",
    "        line = LineString([node_dict_m[x], node_dict_m[y]])\n",
    "        print(x, y)\n",
    "        lines.append(line)\n",
    "\n",
    "points = [Point(node_dict_m[u]), Point(node_dict_m[v])]\n",
    "base = gpd.GeoDataFrame(geometry=lines).plot(figsize=(20, 20))\n",
    "gpd.GeoDataFrame(geometry=points).plot(ax=base)"
   ]
  },
  {
   "cell_type": "code",
   "execution_count": 16,
   "metadata": {
    "pycharm": {
     "name": "#%%\n"
    }
   },
   "outputs": [
    {
     "data": {
      "text/plain": [
       "<AxesSubplot:>"
      ]
     },
     "execution_count": 16,
     "metadata": {},
     "output_type": "execute_result"
    },
    {
     "data": {
      "image/png": "[encoded data removed]",
      "text/plain": [
       "<Figure size 432x288 with 1 Axes>"
      ]
     },
     "metadata": {
      "needs_background": "light"
     },
     "output_type": "display_data"
    }
   ],
   "source": [
    "nearby_roads.plot()"
   ]
  },
  {
   "cell_type": "code",
   "execution_count": 22,
   "metadata": {
    "pycharm": {
     "name": "#%%\n"
    }
   },
   "outputs": [
    {
     "data": {
      "text/plain": [
       "[0, 1]"
      ]
     },
     "execution_count": 22,
     "metadata": {},
     "output_type": "execute_result"
    }
   ],
   "source": [
    "import networkx as nx\n",
    "G = nx.MultiGraph()\n",
    "G.add_edges_from([[1,2], [1,2]])"
   ]
  },
  {
   "cell_type": "code",
   "execution_count": 26,
   "metadata": {
    "pycharm": {
     "name": "#%%\n"
    }
   },
   "outputs": [
    {
     "data": {
      "text/plain": [
       "1"
      ]
     },
     "execution_count": 26,
     "metadata": {},
     "output_type": "execute_result"
    }
   ],
   "source": [
    "len(G[1])"
   ]
  },
  {
   "cell_type": "code",
   "execution_count": 45,
   "metadata": {
    "pycharm": {
     "name": "#%%\n"
    }
   },
   "outputs": [
    {
     "name": "stdout",
     "output_type": "stream",
     "text": [
      "Collecting roads...\n",
      "Constructing graph...\n"
     ]
    }
   ],
   "source": [
    "city = \"Chicago\"\n",
    "state = \"IL\"\n",
    "out_path = f\"../data/{'-'.join(city.lower().split(' '))}\"\n",
    "\n",
    "filename = f'{out_path}/{\"-\".join(city.lower().split(\" \"))}.pkl'\n",
    "# boundary = ox.geocode_to_gdf(f'{city}, {state}, USA')\n",
    "# boundary = list(boundary[\"geometry\"])[0]\n",
    "# if type(boundary) != shapely.geometry.polygon.Polygon:\n",
    "#     boundary = cascaded_union(list(boundary))\n",
    "zipcodes = gpd.read_file(f'../zipcodes/{\"-\".join(city.lower().split(\" \"))}.geojson')\n",
    "boundary = cascaded_union(list(zipcodes[\"geometry\"]))\n",
    "polygon = simplify_boundary(boundary)\n",
    "\n",
    "# buffer the polygon for 1000m to get complete road network\n",
    "print(\"Collecting roads...\")\n",
    "buffer_dist = 1000\n",
    "poly_proj, crs_utm = projection.project_geometry(boundary)\n",
    "poly_proj_buff = poly_proj.buffer(buffer_dist)\n",
    "poly_buff, _ = projection.project_geometry(poly_proj_buff, crs=crs_utm, to_latlong=True)\n",
    "network_type = \"drive\"\n",
    "custom_filter = None\n",
    "roads = ox.downloader._osm_network_download(poly_buff, network_type, custom_filter)\n",
    "\n",
    "nodes = [road for road in roads[0][\"elements\"] if road[\"type\"] == \"node\"]\n",
    "roads = [road for road in roads[0][\"elements\"] if road[\"type\"] == \"way\"]\n",
    "\n",
    "node_dict = {node['id']: [node['lon'], node['lat']] for node in nodes}\n",
    "node_dict_m = gpd.GeoDataFrame(index=node_dict.keys(), geometry=[Point(p) for p in node_dict.values()]).set_crs(\n",
    "    {'init': 'epsg:4326'}).to_crs({'init': 'epsg:3395'})\n",
    "node_dict_m = {index: [row[\"geometry\"].xy[0][0], row[\"geometry\"].xy[1][0]] for index, row in node_dict_m.iterrows()}\n",
    "geometry = [LineString([node_dict[node] for node in road[\"nodes\"]]) for road in roads]\n",
    "for road in roads:\n",
    "    road.update(road.pop(\"tags\"))\n",
    "useful_tags = ['name', 'type', 'id', 'nodes', 'highway', 'lanes', 'lanes:backward',\n",
    "               'lanes:both_ways', 'lanes:forward',\n",
    "               'oneway', 'turn:lanes', 'turn:lanes:backward', 'turn:lanes:both_ways',\n",
    "               'turn:lanes:forward', 'width', 'maxspeed', 'incline']\n",
    "roads = pd.DataFrame(roads)\n",
    "roads = roads[[tag for tag in roads.columns if tag in useful_tags]]\n",
    "roads = gpd.GeoDataFrame(roads, geometry=geometry)\n",
    "if \"lanes:both_ways\" not in roads.columns:\n",
    "    roads[\"lanes:both_ways\"] = 0\n",
    "if \"turn:lanes:both_ways\" not in roads.columns:\n",
    "    roads[\"turn:lanes:both_ways\"] = \"\"\n",
    "\n",
    "roads = roads.set_crs({'init': 'epsg:4326'})\n",
    "roads = roads.to_crs({'init': 'epsg:3395'})\n",
    "\n",
    "# build a graph containing all the nodes and their connections\n",
    "print(\"Constructing graph...\")\n",
    "G = nx.MultiGraph()\n",
    "nodes = set()\n",
    "paths = set()\n",
    "# edge_road = defaultdict(set)\n",
    "for index, row in roads.iterrows():\n",
    "    path_nodes = [group[0] for group in itertools.groupby(row[\"nodes\"])]\n",
    "    G.add_nodes_from(nodes)\n",
    "    G.add_weighted_edges_from(\n",
    "        [(path_nodes[i], path_nodes[i + 1], get_dist(path_nodes[i], path_nodes[i + 1], node_dict_m)) for i in\n",
    "         range(len(path_nodes) - 1)], weight=\"length\")\n",
    "\n",
    "for u, v, k in G.edges(keys=True):\n",
    "    G[u][v][k][\"nodes\"] = set([u, v])\n",
    "    G[u][v][k][\"geometry\"] = LineString([node_dict[u], node_dict[v]])\n",
    "\n",
    "# remove all nodes with degree equal to 2\n",
    "while any([len(G[node]) == 2 for node in G.nodes()]):\n",
    "    bi_nodes = [node for node in G.nodes() if len(G[node]) == 2]\n",
    "    for index, node in enumerate(bi_nodes):\n",
    "        if node in G.nodes():\n",
    "            neighbors = list(dict(G[node]).keys())\n",
    "            if len(neighbors) == 2:\n",
    "                if neighbors[0] == neighbors[1]:\n",
    "                    continue\n",
    "                l1, l2 = sum([G[node][neighbors[0]][k][\"length\"] for k in dict(G[node][neighbors[0]]).keys()]), sum(\n",
    "                    [G[node][neighbors[1]][k][\"length\"] for k in dict(G[node][neighbors[1]]).keys()])\n",
    "                combined_nodes = [G[node][neighbors[0]][k][\"nodes\"] for k in dict(G[node][neighbors[0]]).keys()] + [\n",
    "                    G[node][neighbors[1]][k][\"nodes\"] for k in dict(G[node][neighbors[1]]).keys()]\n",
    "                combined_nodes = [node for nodes in combined_nodes for node in nodes]\n",
    "                k = G.add_edge(*neighbors)\n",
    "                G[neighbors[0]][neighbors[1]][k][\"length\"] = l1 + l2\n",
    "                G[neighbors[0]][neighbors[1]][k][\"nodes\"] = set(combined_nodes)\n",
    "                G[neighbors[0]][neighbors[1]][k][\"geometry\"] = shapely.ops.linemerge([G[node][neighbors[0]][0][\"geometry\"], G[node][neighbors[1]][0][\"geometry\"]])\n",
    "                G.remove_node(node)\n",
    "G.remove_edges_from(nx.selfloop_edges(G))"
   ]
  },
  {
   "cell_type": "code",
   "execution_count": 43,
   "metadata": {
    "pycharm": {
     "name": "#%%\n"
    }
   },
   "outputs": [
    {
     "data": {
      "text/plain": [
       "(array('d', [-87.6560476, -87.6560787]), array('d', [41.9583179, 41.9582882]))"
      ]
     },
     "execution_count": 43,
     "metadata": {},
     "output_type": "execute_result"
    }
   ],
   "source": [
    "[G[node][neighbors[0]][k][\"geometry\"] for k in dict(G[node][neighbors[0]]).keys()][0].xy"
   ]
  },
  {
   "cell_type": "code",
   "execution_count": 44,
   "metadata": {
    "pycharm": {
     "name": "#%%\n"
    }
   },
   "outputs": [
    {
     "data": {
      "text/plain": [
       "(array('d', [-87.6560476, -87.6560787]), array('d', [41.9583179, 41.9582882]))"
      ]
     },
     "execution_count": 44,
     "metadata": {},
     "output_type": "execute_result"
    }
   ],
   "source": [
    "[G[node][neighbors[0]][k][\"geometry\"] for k in dict(G[node][neighbors[0]]).keys()][1].xy"
   ]
  },
  {
   "cell_type": "code",
   "execution_count": 39,
   "metadata": {
    "pycharm": {
     "name": "#%%\n"
    }
   },
   "outputs": [
    {
     "data": {
      "text/plain": [
       "(array('d', [-87.6560276, -87.6560212, -87.6560276]),\n",
       " array('d', [41.9583578, 41.9584059, 41.9583578]))"
      ]
     },
     "execution_count": 39,
     "metadata": {},
     "output_type": "execute_result"
    }
   ],
   "source": [
    "[G[node][neighbors[1]][k][\"geometry\"] for k in dict(G[node][neighbors[1]]).keys()][0][0].xy"
   ]
  },
  {
   "cell_type": "code",
   "execution_count": 40,
   "metadata": {
    "pycharm": {
     "name": "#%%\n"
    }
   },
   "outputs": [
    {
     "data": {
      "text/plain": [
       "(array('d', [-87.6560276, -87.6560476, -87.6560276]),\n",
       " array('d', [41.9583578, 41.9583179, 41.9583578]))"
      ]
     },
     "execution_count": 40,
     "metadata": {},
     "output_type": "execute_result"
    }
   ],
   "source": [
    "[G[node][neighbors[1]][k][\"geometry\"] for k in dict(G[node][neighbors[1]]).keys()][0][1].xy"
   ]
  },
  {
   "cell_type": "code",
   "execution_count": null,
   "metadata": {
    "pycharm": {
     "name": "#%%\n"
    }
   },
   "outputs": [],
   "source": [
    "with open(\"../data/salt-lake-city/\")"
   ]
  }
 ],
 "metadata": {
  "kernelspec": {
   "display_name": "Python 3",
   "language": "python",
   "name": "python3"
  },
  "language_info": {
   "codemirror_mode": {
    "name": "ipython",
    "version": 3
   },
   "file_extension": ".py",
   "mimetype": "text/x-python",
   "name": "python",
   "nbconvert_exporter": "python",
   "pygments_lexer": "ipython3",
   "version": "3.7.6"
  }
 },
 "nbformat": 4,
 "nbformat_minor": 1
}
