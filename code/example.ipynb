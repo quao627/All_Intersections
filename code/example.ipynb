{
 "cells": [
  {
   "cell_type": "markdown",
   "metadata": {},
   "source": [
    "# Data Analysis Example Notebook"
   ]
  },
  {
   "cell_type": "code",
   "execution_count": 20,
   "metadata": {},
   "outputs": [],
   "source": [
    "import pickle\n",
    "from copy import deepcopy\n",
    "from net import gen_net\n",
    "from pathlib import Path\n",
    "\n",
    "city = \"salt-lake-city\""
   ]
  },
  {
   "cell_type": "code",
   "execution_count": 14,
   "metadata": {},
   "outputs": [],
   "source": [
    "with open(f\"../data/{city}/sumo_intersection.pkl\", \"rb\") as f:\n",
    "    intersections = pickle.load(f)"
   ]
  },
  {
   "cell_type": "markdown",
   "metadata": {},
   "source": [
    "Each intersection data contains a \"central\" intersection and several \"neighbors\" intersections.  \\\n",
    "They are matched in order (i.e., the first approach in \"central\" intersection is matched with \"A\" neighbor intersection).  \\\n",
    "Each neighbor intersection is a four-way intersection that consists of four copies of the approach connected to the central intersection."
   ]
  },
  {
   "cell_type": "code",
   "execution_count": 15,
   "metadata": {},
   "outputs": [
    {
     "data": {
      "text/plain": [
       "[{'num_incoming': 2,\n",
       "  'num_outgoing': 2,\n",
       "  'length': 454.67034014556657,\n",
       "  'speed': 35,\n",
       "  'connections': {0: [(2, 0), (3, 0)], 1: [(1, 1), (2, 1)]},\n",
       "  'slope': 0.0268224},\n",
       " {'num_incoming': 2,\n",
       "  'num_outgoing': 2,\n",
       "  'length': 637.8984894844739,\n",
       "  'speed': 30,\n",
       "  'connections': {0: [(2, 0), (3, 0)], 1: [(2, 1)]},\n",
       "  'slope': 0.0451104},\n",
       " {'num_incoming': 2,\n",
       "  'num_outgoing': 2,\n",
       "  'length': 476.9743259326773,\n",
       "  'speed': 35,\n",
       "  'connections': {0: [(0, 0), (1, 0)], 1: [(3, 0), (0, 1)]},\n",
       "  'slope': -0.007620000000000001},\n",
       " {'num_incoming': 1,\n",
       "  'num_outgoing': 1,\n",
       "  'length': 134.2806488179382,\n",
       "  'speed': 25,\n",
       "  'connections': {0: [(1, 0), (2, 0)]},\n",
       "  'slope': -0.059740800000000004}]"
      ]
     },
     "execution_count": 15,
     "metadata": {},
     "output_type": "execute_result"
    }
   ],
   "source": [
    "intersections[0][\"central\"]"
   ]
  },
  {
   "cell_type": "code",
   "execution_count": 16,
   "metadata": {},
   "outputs": [
    {
     "data": {
      "text/plain": [
       "[{'num_incoming': 2,\n",
       "  'num_outgoing': 2,\n",
       "  'length': 454.67034014556657,\n",
       "  'speed': 35,\n",
       "  'connections': {0: [(2, 0), (3, 0)], 1: [(1, 1), (2, 1)]},\n",
       "  'slope': 0.0268224},\n",
       " {'num_incoming': 2,\n",
       "  'num_outgoing': 2,\n",
       "  'length': 454.67034014556657,\n",
       "  'speed': 35,\n",
       "  'connections': {0: [(3, 0), (0, 0)], 1: [(2, 1), (3, 1)]},\n",
       "  'slope': 0.0268224},\n",
       " {'num_incoming': 2,\n",
       "  'num_outgoing': 2,\n",
       "  'length': 454.67034014556657,\n",
       "  'speed': 35,\n",
       "  'connections': {0: [(0, 0), (1, 0)], 1: [(3, 1), (0, 1)]},\n",
       "  'slope': 0.0268224},\n",
       " {'num_incoming': 2,\n",
       "  'num_outgoing': 2,\n",
       "  'length': 454.67034014556657,\n",
       "  'speed': 35,\n",
       "  'connections': {0: [(1, 0), (2, 0)], 1: [(0, 1), (1, 1)]},\n",
       "  'slope': 0.0268224}]"
      ]
     },
     "execution_count": 16,
     "metadata": {},
     "output_type": "execute_result"
    }
   ],
   "source": [
    "intersections[0][\"neighbors\"][\"A\"]"
   ]
  },
  {
   "cell_type": "markdown",
   "metadata": {},
   "source": [
    "An example of setting length threshold for the intersection data."
   ]
  },
  {
   "cell_type": "code",
   "execution_count": 11,
   "metadata": {},
   "outputs": [],
   "source": [
    "def set_length_threshold(intersections, threshold=200):\n",
    "    intersections= deepcopy(intersections)\n",
    "    for idx, intersection in intersections.items():\n",
    "        for road in intersection[\"central\"]:\n",
    "            road[\"length\"] = threshold if road[\"length\"] < threshold else road[\"length\"]\n",
    "        for i, intersection in intersection[\"neighbors\"].items():\n",
    "            for road in intersection:\n",
    "                road[\"length\"] = threshold if road[\"length\"] < threshold else road[\"length\"]\n",
    "    return intersections"
   ]
  },
  {
   "cell_type": "code",
   "execution_count": 17,
   "metadata": {},
   "outputs": [],
   "source": [
    "new_intersections = set_length_threshold(intersections)\n",
    "with open(f\"../data/{city}/processed_intersections.pkl\", \"wb\") as f:\n",
    "    pickle.dump(new_intersections, f)"
   ]
  },
  {
   "cell_type": "code",
   "execution_count": 24,
   "metadata": {},
   "outputs": [
    {
     "name": "stdout",
     "output_type": "stream",
     "text": [
      "Parsing nodes from '../data/salt-lake-city/nodes.nod.xml' ... done.\n",
      "Parsing edges from '../data/salt-lake-city/edges.edg.xml' ... done.\n",
      "Parsing connections from '../data/salt-lake-city/connections.con.xml' ... done.\n",
      " Import done:\n",
      "   17 nodes loaded.\n",
      "   32 edges loaded.\n",
      "Removing self-loops ... done (0ms).\n",
      "Removing empty nodes ... done (0ms).\n",
      "   0 nodes removed.\n",
      "Moving network to origin ... done (0ms).\n",
      "Computing turning directions ... done (0ms).\n",
      "Assigning nodes to traffic lights ... done (0ms).\n",
      "Sorting nodes' edges ... done (0ms).\n",
      "Computing node shapes ... done (0ms).\n",
      "Computing edge shapes ... done (1ms).\n",
      "Computing node types ... done (0ms).\n",
      "Computing priorities ... done (0ms).\n",
      "Computing approached edges ... done (0ms).\n",
      "Guessing and setting roundabouts ... done (0ms).\n",
      "Computing approaching lanes ... done (0ms).\n",
      "Dividing of lanes on approached lanes ... done (0ms).\n",
      "Processing turnarounds ... done (0ms).\n",
      "Rechecking of lane endings ... done (0ms).\n",
      "Computing traffic light control information ... done (0ms).\n",
      "Computing node logics ... done (0ms).\n",
      "Computing traffic light logics ... \n",
      "done (1ms).\n",
      " 17 traffic light(s) computed.\n",
      "Building inner edges ... \n",
      "done (1ms).\n",
      "Checking edge grade ... done (0ms).\n",
      "-----------------------------------------------------\n",
      "Summary:\n",
      " Node type statistics:\n",
      "  Unregulated junctions       : 0\n",
      "  Priority junctions          : 0\n",
      "  Right-before-left junctions : 0\n",
      "  Traffic light junctions      : 17\n",
      " Network boundaries:\n",
      "  Original boundary  : -476.97,-953.95,1275.80,909.34\n",
      "  Applied offset     : 476.97,953.95\n",
      "  Converted boundary : 0.00,0.00,1752.77,1863.29\n",
      "-----------------------------------------------------\n",
      "Writing network ... done (2ms).\n",
      "Success.\n",
      "Success\n"
     ]
    },
    {
     "name": "stderr",
     "output_type": "stream",
     "text": [
      "Warning: Minor green from edge 'AB2A' to edge 'A2AC' exceeds 1.00m/s. Maybe a left-turn lane is missing.\n",
      "Warning: Minor green from edge 'TL2A' to edge 'A2AA' exceeds 1.00m/s. Maybe a left-turn lane is missing.\n",
      "Warning: Minor green from edge 'AC2A' to edge 'A2TL' exceeds 1.00m/s. Maybe a left-turn lane is missing.\n",
      "Warning: Minor green from edge 'AA2A' to edge 'A2AB' exceeds 1.00m/s. Maybe a left-turn lane is missing.\n",
      "Warning: Minor green from edge 'BA2B' to edge 'B2BB' exceeds 1.00m/s. Maybe a left-turn lane is missing.\n",
      "Warning: Speed of turning connection 'AB2A_0->A2AA_0' reduced by 28.49 due to turning radius of 7.70 (length=9.03, angle=90.00).\n",
      "Warning: Speed of turning connection 'AB2A_1->A2AC_1' reduced by 25.74 due to turning radius of 15.58 (length=19.35, angle=90.00).\n",
      "Warning: Speed of turning connection 'AC2A_0->A2AB_0' reduced by 28.49 due to turning radius of 7.70 (length=9.03, angle=90.00).\n",
      "Warning: Speed of turning connection 'AC2A_1->A2TL_1' reduced by 25.74 due to turning radius of 15.58 (length=19.35, angle=90.00).\n",
      "Warning: Speed of turning connection 'TL2A_0->A2AC_0' reduced by 28.49 due to turning radius of 7.70 (length=9.03, angle=90.00).\n",
      "Warning: 14 total messages of type: Minor green from edge '%' to edge '%' exceeds %m/s. Maybe a left-turn lane is missing.\n",
      "Warning: 26 total messages of type: Speed of % connection '%' reduced by % due to turning radius of % (length=%, angle=%).\n",
      "Fontconfig warning: ignoring UTF-8: not a valid region tag\n"
     ]
    },
    {
     "data": {
      "text/plain": [
       "PosixPath('../data/salt-lake-city/sumo/net/0.net.xml')"
      ]
     },
     "execution_count": 24,
     "metadata": {},
     "output_type": "execute_result"
    }
   ],
   "source": [
    "idx = 0\n",
    "intersection = new_intersections[idx]\n",
    "gen_net(intersection[\"central\"], intersection[\"neighbors\"], working_dir=Path(\"../data/salt-lake-city/\"), output=f\"sumo/net/{idx}.net.xml\", open_netedit=True)"
   ]
  },
  {
   "cell_type": "code",
   "execution_count": null,
   "metadata": {},
   "outputs": [],
   "source": []
  }
 ],
 "metadata": {
  "kernelspec": {
   "display_name": "Python 3.10.4 ('rosetta')",
   "language": "python",
   "name": "python3"
  },
  "language_info": {
   "codemirror_mode": {
    "name": "ipython",
    "version": 3
   },
   "file_extension": ".py",
   "mimetype": "text/x-python",
   "name": "python",
   "nbconvert_exporter": "python",
   "pygments_lexer": "ipython3",
   "version": "3.10.4"
  },
  "orig_nbformat": 4,
  "vscode": {
   "interpreter": {
    "hash": "1e0bf609c73c312199017514eaf9c15da6dc39ab8bba0e68ea5878a1b5a9c47e"
   }
  }
 },
 "nbformat": 4,
 "nbformat_minor": 2
}
